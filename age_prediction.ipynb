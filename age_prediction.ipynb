{
 "cells": [
  {
   "cell_type": "code",
   "execution_count": 1,
   "id": "995bec26",
   "metadata": {},
   "outputs": [],
   "source": [
    "import random\n",
    "import sys\n",
    "import os\n",
    "import numpy as np\n",
    "import matplotlib.pyplot as plt\n",
    "import glob\n",
    "import pickle\n",
    "from tqdm import tqdm\n",
    "import nibabel as nib\n",
    "\n",
    "%matplotlib inline"
   ]
  },
  {
   "cell_type": "code",
   "execution_count": 2,
   "id": "2b159dc1",
   "metadata": {},
   "outputs": [],
   "source": [
    "import torch\n",
    "import torch.nn as nn\n",
    "import torch.nn.functional as F\n",
    "from torch import optim\n",
    "from torchvision import transforms\n",
    "\n",
    "from torch.utils.data import Dataset, TensorDataset, random_split, SubsetRandomSampler, ConcatDataset\n",
    "from sklearn.model_selection import KFold\n",
    "\n",
    "from skimage.transform import resize \n",
    "\n",
    "from sklearn.metrics import mean_absolute_error as mae"
   ]
  },
  {
   "cell_type": "code",
   "execution_count": 3,
   "id": "9ac1a1a4",
   "metadata": {},
   "outputs": [],
   "source": [
    "# Use the GPU if you have one\n",
    "device = torch.device(\"cuda:0\" if torch.cuda.is_available() else \"cpu\")"
   ]
  },
  {
   "cell_type": "code",
   "execution_count": 4,
   "id": "2a7ef7e7",
   "metadata": {},
   "outputs": [],
   "source": [
    "#single scale\n",
    "class fc_layer(nn.Module):\n",
    "    def __init__(self, in_layer, out_layer):\n",
    "        super(fc_layer, self).__init__()\n",
    "        self.fc = nn.Linear(in_layer, out_layer)\n",
    "        #if in_features=5 and out_features=10 and the input tensor x \n",
    "        #has dimensions 2-3-5, then the output tensor will have dimensions 2-3-10???\n",
    "        #\n",
    "\n",
    "    def forward(self, x):\n",
    "        return self.fc(x)\n",
    "\n",
    "class avg_pool(nn.Module):\n",
    "    def __init__(self):\n",
    "        super(avg_pool, self).__init__()\n",
    "        self.avgp = nn.AvgPool3d(2)\n",
    "        \n",
    "    def forward(self, x):\n",
    "        return self.avgp(x)\n",
    "\n",
    "class relu_act(nn.Module):\n",
    "    def __init__(self):\n",
    "        super(relu_act, self).__init__()\n",
    "        self.relu = nn.ReLU()\n",
    "    \n",
    "    def forward(self, x):\n",
    "        return self.relu(x)\n",
    "\n",
    "class softmax_layer(nn.Module):\n",
    "    def __init__(self):\n",
    "        super(softmax_layer, self).__init__()\n",
    "        self.softmax = nn.Softmax()\n",
    "    \n",
    "    def forward(self, x):\n",
    "        return self.softmax(x)"
   ]
  },
  {
   "cell_type": "markdown",
   "id": "e20e1f75",
   "metadata": {},
   "source": [
    "# Age prediction"
   ]
  },
  {
   "cell_type": "code",
   "execution_count": 5,
   "id": "263fe02e",
   "metadata": {},
   "outputs": [],
   "source": [
    "class age_pred(nn.Module):\n",
    "    def __init__(self, in_layer, out_layer):\n",
    "        super(age_pred, self).__init__()\n",
    "        self.in_layer = in_layer\n",
    "        self.out_layer = out_layer\n",
    "        self.layer1 = fc_layer(562500, out_layer)\n",
    "        self.avg = avg_pool()\n",
    "        self.relu = relu_act()\n",
    "    \n",
    "    def forward(self, x):\n",
    "        x0 = self.avg(x)\n",
    "        x0 = torch.flatten(x0, start_dim = 1, end_dim = -1)\n",
    "        x1 = self.layer1(x0)\n",
    "        x2 = self.relu(x1)\n",
    "        return x1"
   ]
  },
  {
   "cell_type": "code",
   "execution_count": 6,
   "id": "8f6a8f9d",
   "metadata": {},
   "outputs": [],
   "source": [
    "#loss for regression\n",
    "class get_mae(nn.Module):\n",
    "    def __init__(self):\n",
    "        super(get_mae, self).__init__()\n",
    "    \n",
    "    def forward(self, pred, y_test):\n",
    "        mae_out =  mae(y_pred=pred, y_true=y_test)\n",
    "        return mae_out"
   ]
  },
  {
   "cell_type": "code",
   "execution_count": 5,
   "id": "ad8eac38",
   "metadata": {},
   "outputs": [],
   "source": [
    "def customToTensor(img):\n",
    "    if isinstance(img, np.ndarray):\n",
    "        img1 = torch.from_numpy(img)\n",
    "        img1 = resize_image(img, (150, 150, 200))\n",
    "        # backward compatibility\n",
    "        return img1.astype(np.float32)\n",
    "\n",
    "def resize_image(img_array, trg_size):\n",
    "    res = resize(img_array, trg_size, mode='reflect', preserve_range=True, anti_aliasing=False)\n",
    "    # type check\n",
    "    if type(res) != np.ndarray:\n",
    "        raise \"type error!\"\n",
    "    return res"
   ]
  },
  {
   "cell_type": "code",
   "execution_count": 8,
   "id": "da78d89b",
   "metadata": {},
   "outputs": [],
   "source": [
    "class ADNI_Dataset_regression(Dataset):\n",
    "    def __init__(self, root_dir, data_file):\n",
    "        \"\"\"\n",
    "        Args:\n",
    "            root_dir (string): Directory of all the images.\n",
    "            data_file (string): File name of the train/test split file.\n",
    "        \"\"\"\n",
    "        self.root_dir = root_dir\n",
    "        self.data_file = data_file\n",
    "    \n",
    "    def __len__(self):\n",
    "        return sum(1 for line in open(self.data_file))\n",
    "    \n",
    "    def __getitem__(self, idx):\n",
    "        df = open(self.data_file)\n",
    "        lines = df.readlines()\n",
    "        lst = lines[idx].split(',')\n",
    "        img_name = lst[0].strip('\\\"')\n",
    "        img_label = float(lst[4].strip('\\\"'))\n",
    "        image_path = os.path.join(self.root_dir, img_name) + '.nii'\n",
    "        image = nib.load(image_path)\n",
    "        a = (image.get_fdata()) #convert to np array\n",
    "        a = customToTensor(a)\n",
    "        \n",
    "        sample = {'image': a, 'label': img_label}\n",
    "        \n",
    "        return sample"
   ]
  },
  {
   "cell_type": "code",
   "execution_count": 9,
   "id": "8b83cfe7",
   "metadata": {
    "scrolled": false
   },
   "outputs": [],
   "source": [
    "# image = nib.load(r\"C:\\Users\\pbhav\\Desktop\\NYU\\ivp\\project\\ADNI\\I30968.nii\")\n",
    "# a = (image.get_fdata()) #convert to np array\n",
    "# a = customToTensor(a)\n",
    "# plt.imshow(a[:, :, 100])\n",
    "# # print(type(a))\n",
    "# df = open(\"C:/Users/pbhav/Downloads/ADNI1_Annual_2_Yr_3T_4_23_2022.csv\")\n",
    "# lines = df.readlines()\n",
    "# lst = lines[1].split(',')\n",
    "# img_name = lst[0].strip('\\\"')\n",
    "# img_label = float(lst[4].strip('\\\"'))\n",
    "# print(type(img_label))\n",
    "# print(img_label)"
   ]
  },
  {
   "cell_type": "code",
   "execution_count": 6,
   "id": "23998249",
   "metadata": {},
   "outputs": [],
   "source": [
    "NUM_EPOCH = 50\n",
    "BATCH_SIZE = 20\n",
    "LR = 0.0001\n",
    "SAVE_PATH_AP = r'C:\\Users\\pbhav\\Desktop\\NYU\\ivp\\project\\model\\AP' #path to save age prediction model\n",
    "SAVE_PATH_BC = r'C:\\Users\\pbhav\\Desktop\\NYU\\ivp\\project\\model\\BC' #path to save disease classification madel"
   ]
  },
  {
   "cell_type": "code",
   "execution_count": 11,
   "id": "83f7e846",
   "metadata": {},
   "outputs": [],
   "source": [
    "def train_epoch(net, data_loader, optimizer, criterion, epoch):\n",
    "    net.train()\n",
    "    loss_stat = []\n",
    "    for i, img_label in enumerate(data_loader):\n",
    "        img = img_label.get('image')\n",
    "        label = img_label.get('label')\n",
    "        img = img.to(device=device)\n",
    "        label = torch.as_tensor(label)\n",
    "        label_amount = len(label)\n",
    "        label.resize_(label_amount, 1)\n",
    "#         print(label.shape)\n",
    "        pred = net(img)\n",
    "#         print(pred.shape)\n",
    "#         pred = pred.detach().numpy()\n",
    "#         print(pred)\n",
    "        loss = criterion(label, pred)\n",
    "#         print(loss)\n",
    "        optimizer.zero_grad()\n",
    "        loss.backward()\n",
    "        optimizer.step()\n",
    "#         print(loss.item())\n",
    "        loss_stat += [loss.item()]\n",
    "    \n",
    "    print (\"Epoch {}: [{}/{}] Loss: {:.3f}\".format(epoch, len(data_loader), len(data_loader), np.mean(loss_stat))) \n",
    "    \n",
    "    return np.mean(loss_stat)"
   ]
  },
  {
   "cell_type": "code",
   "execution_count": 12,
   "id": "f24dec23",
   "metadata": {},
   "outputs": [],
   "source": [
    "def valid_epoch(net, data_loader, criterion, epoch):\n",
    "    net.eval()\n",
    "\n",
    "    val_loss_stat = []\n",
    "    for i, img_label in enumerate(data_loader):\n",
    "        img = img_label.get('image')\n",
    "        label = img_label.get('label')\n",
    "        img = img.to(device=device, dtype=torch.float32)\n",
    "        label = torch.as_tensor(label)\n",
    "        label_amount = len(label)\n",
    "        label.resize_(label_amount, 1)\n",
    "        with torch.no_grad():\n",
    "            pred = net(img)\n",
    "            val_loss = criterion(label, pred)\n",
    "      \n",
    "        val_loss_stat += [val_loss.item()]\n",
    "        \n",
    "    print (\"Val Loss: {:.3f} \".format(np.mean(val_loss_stat)))\n",
    "    \n",
    "    return np.mean(val_loss_stat)"
   ]
  },
  {
   "cell_type": "code",
   "execution_count": 13,
   "id": "c166cc30",
   "metadata": {},
   "outputs": [],
   "source": [
    "regression_data = ADNI_Dataset_regression(r\"C:/Users/pbhav/Desktop/NYU/ivp/project/ADNI/\", \"C:/Users/pbhav/Downloads/ADNI1_Annual_2_Yr_3T_4_23_2022.csv\")"
   ]
  },
  {
   "cell_type": "code",
   "execution_count": 14,
   "id": "6b9f4412",
   "metadata": {},
   "outputs": [
    {
     "name": "stdout",
     "output_type": "stream",
     "text": [
      "age_pred(\n",
      "  (layer1): fc_layer(\n",
      "    (fc): Linear(in_features=562500, out_features=1, bias=True)\n",
      "  )\n",
      "  (avg): avg_pool(\n",
      "    (avgp): AvgPool3d(kernel_size=2, stride=2, padding=0)\n",
      "  )\n",
      "  (relu): relu_act(\n",
      "    (relu): ReLU()\n",
      "  )\n",
      ")\n",
      "Number of parameters in network:  562501\n"
     ]
    }
   ],
   "source": [
    "in_size = 200\n",
    "#size after the transformer (B, T, 3, C)\n",
    "#T is shared size in xyz, number of slices in each direction, C is number of hiddens for each slice. Concat along C (feature map)\n",
    "\n",
    "net = age_pred(in_size, 1)\n",
    "# net.to(device)  # run net.to(device) if using GPU\n",
    "print(net)\n",
    "\n",
    "n_params = sum(p.numel() for p in net.parameters() if p.requires_grad)\n",
    "print('Number of parameters in network: ', n_params)"
   ]
  },
  {
   "cell_type": "code",
   "execution_count": 36,
   "id": "7e4b9414",
   "metadata": {},
   "outputs": [],
   "source": [
    "#kfold validation for k = 5\n",
    "k=5\n",
    "splits=KFold(n_splits=k,shuffle=True,random_state=42)\n",
    "\n",
    "criterion = nn.L1Loss()"
   ]
  },
  {
   "cell_type": "code",
   "execution_count": 37,
   "id": "d3467477",
   "metadata": {
    "scrolled": false
   },
   "outputs": [
    {
     "name": "stdout",
     "output_type": "stream",
     "text": [
      "Fold 1\n",
      "Epoch 0: [12/12] Loss: 337.898\n",
      "Val Loss: 191.526 \n",
      "Epoch:1/100 AVG Training Loss:1.426 AVG Test Loss:3.246\n",
      "Checkpoint 1 saved to C:\\Users\\pbhav\\Desktop\\NYU\\ivp\\project\\model\\AP\\epoch1.pth\n",
      "Epoch 1: [12/12] Loss: 211.199\n",
      "Val Loss: 168.085 \n",
      "Epoch:2/100 AVG Training Loss:0.891 AVG Test Loss:2.849\n",
      "Checkpoint 2 saved to C:\\Users\\pbhav\\Desktop\\NYU\\ivp\\project\\model\\AP\\epoch2.pth\n",
      "Epoch 2: [12/12] Loss: 155.215\n",
      "Val Loss: 140.738 \n",
      "Epoch:3/100 AVG Training Loss:0.655 AVG Test Loss:2.385\n",
      "Checkpoint 3 saved to C:\\Users\\pbhav\\Desktop\\NYU\\ivp\\project\\model\\AP\\epoch3.pth\n",
      "Epoch 3: [12/12] Loss: 135.657\n",
      "Val Loss: 128.029 \n",
      "Epoch:4/100 AVG Training Loss:0.572 AVG Test Loss:2.170\n",
      "Checkpoint 4 saved to C:\\Users\\pbhav\\Desktop\\NYU\\ivp\\project\\model\\AP\\epoch4.pth\n",
      "Epoch 4: [12/12] Loss: 118.174\n",
      "Val Loss: 94.280 \n",
      "Epoch:5/100 AVG Training Loss:0.499 AVG Test Loss:1.598\n",
      "Checkpoint 5 saved to C:\\Users\\pbhav\\Desktop\\NYU\\ivp\\project\\model\\AP\\epoch5.pth\n",
      "Epoch 5: [12/12] Loss: 78.851\n",
      "Val Loss: 59.720 \n",
      "Epoch:6/100 AVG Training Loss:0.333 AVG Test Loss:1.012\n",
      "Checkpoint 6 saved to C:\\Users\\pbhav\\Desktop\\NYU\\ivp\\project\\model\\AP\\epoch6.pth\n"
     ]
    },
    {
     "ename": "KeyboardInterrupt",
     "evalue": "",
     "output_type": "error",
     "traceback": [
      "\u001b[1;31m---------------------------------------------------------------------------\u001b[0m",
      "\u001b[1;31mKeyboardInterrupt\u001b[0m                         Traceback (most recent call last)",
      "Input \u001b[1;32mIn [37]\u001b[0m, in \u001b[0;36m<cell line: 3>\u001b[1;34m()\u001b[0m\n\u001b[0;32m     18\u001b[0m history \u001b[38;5;241m=\u001b[39m {\u001b[38;5;124m'\u001b[39m\u001b[38;5;124mtrain_loss\u001b[39m\u001b[38;5;124m'\u001b[39m: [], \u001b[38;5;124m'\u001b[39m\u001b[38;5;124mtest_loss\u001b[39m\u001b[38;5;124m'\u001b[39m: []}\n\u001b[0;32m     20\u001b[0m \u001b[38;5;28;01mfor\u001b[39;00m epoch \u001b[38;5;129;01min\u001b[39;00m \u001b[38;5;28mrange\u001b[39m(NUM_EPOCH):\n\u001b[1;32m---> 21\u001b[0m     train_loss \u001b[38;5;241m=\u001b[39m\u001b[43mtrain_epoch\u001b[49m\u001b[43m(\u001b[49m\u001b[43mnet\u001b[49m\u001b[43m,\u001b[49m\u001b[43m \u001b[49m\u001b[43mtrain_loader\u001b[49m\u001b[43m,\u001b[49m\u001b[43m \u001b[49m\u001b[43moptimizer\u001b[49m\u001b[43m,\u001b[49m\u001b[43m \u001b[49m\u001b[43mcriterion\u001b[49m\u001b[43m,\u001b[49m\u001b[43m \u001b[49m\u001b[43mepoch\u001b[49m\u001b[43m)\u001b[49m\n\u001b[0;32m     22\u001b[0m     test_loss \u001b[38;5;241m=\u001b[39mvalid_epoch(net, test_loader, criterion, epoch)\n\u001b[0;32m     23\u001b[0m     train_loss \u001b[38;5;241m=\u001b[39m train_loss \u001b[38;5;241m/\u001b[39m \u001b[38;5;28mlen\u001b[39m(train_loader\u001b[38;5;241m.\u001b[39msampler)\n",
      "Input \u001b[1;32mIn [32]\u001b[0m, in \u001b[0;36mtrain_epoch\u001b[1;34m(net, data_loader, optimizer, criterion, epoch)\u001b[0m\n\u001b[0;32m      2\u001b[0m net\u001b[38;5;241m.\u001b[39mtrain()\n\u001b[0;32m      3\u001b[0m loss_stat \u001b[38;5;241m=\u001b[39m []\n\u001b[1;32m----> 4\u001b[0m \u001b[38;5;28;01mfor\u001b[39;00m i, img_label \u001b[38;5;129;01min\u001b[39;00m \u001b[38;5;28menumerate\u001b[39m(data_loader):\n\u001b[0;32m      5\u001b[0m     img \u001b[38;5;241m=\u001b[39m img_label\u001b[38;5;241m.\u001b[39mget(\u001b[38;5;124m'\u001b[39m\u001b[38;5;124mimage\u001b[39m\u001b[38;5;124m'\u001b[39m)\n\u001b[0;32m      6\u001b[0m     label \u001b[38;5;241m=\u001b[39m img_label\u001b[38;5;241m.\u001b[39mget(\u001b[38;5;124m'\u001b[39m\u001b[38;5;124mlabel\u001b[39m\u001b[38;5;124m'\u001b[39m)\n",
      "File \u001b[1;32m~\\anaconda3\\envs\\ivp_proj\\lib\\site-packages\\torch\\utils\\data\\dataloader.py:530\u001b[0m, in \u001b[0;36m_BaseDataLoaderIter.__next__\u001b[1;34m(self)\u001b[0m\n\u001b[0;32m    528\u001b[0m \u001b[38;5;28;01mif\u001b[39;00m \u001b[38;5;28mself\u001b[39m\u001b[38;5;241m.\u001b[39m_sampler_iter \u001b[38;5;129;01mis\u001b[39;00m \u001b[38;5;28;01mNone\u001b[39;00m:\n\u001b[0;32m    529\u001b[0m     \u001b[38;5;28mself\u001b[39m\u001b[38;5;241m.\u001b[39m_reset()\n\u001b[1;32m--> 530\u001b[0m data \u001b[38;5;241m=\u001b[39m \u001b[38;5;28;43mself\u001b[39;49m\u001b[38;5;241;43m.\u001b[39;49m\u001b[43m_next_data\u001b[49m\u001b[43m(\u001b[49m\u001b[43m)\u001b[49m\n\u001b[0;32m    531\u001b[0m \u001b[38;5;28mself\u001b[39m\u001b[38;5;241m.\u001b[39m_num_yielded \u001b[38;5;241m+\u001b[39m\u001b[38;5;241m=\u001b[39m \u001b[38;5;241m1\u001b[39m\n\u001b[0;32m    532\u001b[0m \u001b[38;5;28;01mif\u001b[39;00m \u001b[38;5;28mself\u001b[39m\u001b[38;5;241m.\u001b[39m_dataset_kind \u001b[38;5;241m==\u001b[39m _DatasetKind\u001b[38;5;241m.\u001b[39mIterable \u001b[38;5;129;01mand\u001b[39;00m \\\n\u001b[0;32m    533\u001b[0m         \u001b[38;5;28mself\u001b[39m\u001b[38;5;241m.\u001b[39m_IterableDataset_len_called \u001b[38;5;129;01mis\u001b[39;00m \u001b[38;5;129;01mnot\u001b[39;00m \u001b[38;5;28;01mNone\u001b[39;00m \u001b[38;5;129;01mand\u001b[39;00m \\\n\u001b[0;32m    534\u001b[0m         \u001b[38;5;28mself\u001b[39m\u001b[38;5;241m.\u001b[39m_num_yielded \u001b[38;5;241m>\u001b[39m \u001b[38;5;28mself\u001b[39m\u001b[38;5;241m.\u001b[39m_IterableDataset_len_called:\n",
      "File \u001b[1;32m~\\anaconda3\\envs\\ivp_proj\\lib\\site-packages\\torch\\utils\\data\\dataloader.py:570\u001b[0m, in \u001b[0;36m_SingleProcessDataLoaderIter._next_data\u001b[1;34m(self)\u001b[0m\n\u001b[0;32m    568\u001b[0m \u001b[38;5;28;01mdef\u001b[39;00m \u001b[38;5;21m_next_data\u001b[39m(\u001b[38;5;28mself\u001b[39m):\n\u001b[0;32m    569\u001b[0m     index \u001b[38;5;241m=\u001b[39m \u001b[38;5;28mself\u001b[39m\u001b[38;5;241m.\u001b[39m_next_index()  \u001b[38;5;66;03m# may raise StopIteration\u001b[39;00m\n\u001b[1;32m--> 570\u001b[0m     data \u001b[38;5;241m=\u001b[39m \u001b[38;5;28;43mself\u001b[39;49m\u001b[38;5;241;43m.\u001b[39;49m\u001b[43m_dataset_fetcher\u001b[49m\u001b[38;5;241;43m.\u001b[39;49m\u001b[43mfetch\u001b[49m\u001b[43m(\u001b[49m\u001b[43mindex\u001b[49m\u001b[43m)\u001b[49m  \u001b[38;5;66;03m# may raise StopIteration\u001b[39;00m\n\u001b[0;32m    571\u001b[0m     \u001b[38;5;28;01mif\u001b[39;00m \u001b[38;5;28mself\u001b[39m\u001b[38;5;241m.\u001b[39m_pin_memory:\n\u001b[0;32m    572\u001b[0m         data \u001b[38;5;241m=\u001b[39m _utils\u001b[38;5;241m.\u001b[39mpin_memory\u001b[38;5;241m.\u001b[39mpin_memory(data)\n",
      "File \u001b[1;32m~\\anaconda3\\envs\\ivp_proj\\lib\\site-packages\\torch\\utils\\data\\_utils\\fetch.py:49\u001b[0m, in \u001b[0;36m_MapDatasetFetcher.fetch\u001b[1;34m(self, possibly_batched_index)\u001b[0m\n\u001b[0;32m     47\u001b[0m \u001b[38;5;28;01mdef\u001b[39;00m \u001b[38;5;21mfetch\u001b[39m(\u001b[38;5;28mself\u001b[39m, possibly_batched_index):\n\u001b[0;32m     48\u001b[0m     \u001b[38;5;28;01mif\u001b[39;00m \u001b[38;5;28mself\u001b[39m\u001b[38;5;241m.\u001b[39mauto_collation:\n\u001b[1;32m---> 49\u001b[0m         data \u001b[38;5;241m=\u001b[39m [\u001b[38;5;28mself\u001b[39m\u001b[38;5;241m.\u001b[39mdataset[idx] \u001b[38;5;28;01mfor\u001b[39;00m idx \u001b[38;5;129;01min\u001b[39;00m possibly_batched_index]\n\u001b[0;32m     50\u001b[0m     \u001b[38;5;28;01melse\u001b[39;00m:\n\u001b[0;32m     51\u001b[0m         data \u001b[38;5;241m=\u001b[39m \u001b[38;5;28mself\u001b[39m\u001b[38;5;241m.\u001b[39mdataset[possibly_batched_index]\n",
      "File \u001b[1;32m~\\anaconda3\\envs\\ivp_proj\\lib\\site-packages\\torch\\utils\\data\\_utils\\fetch.py:49\u001b[0m, in \u001b[0;36m<listcomp>\u001b[1;34m(.0)\u001b[0m\n\u001b[0;32m     47\u001b[0m \u001b[38;5;28;01mdef\u001b[39;00m \u001b[38;5;21mfetch\u001b[39m(\u001b[38;5;28mself\u001b[39m, possibly_batched_index):\n\u001b[0;32m     48\u001b[0m     \u001b[38;5;28;01mif\u001b[39;00m \u001b[38;5;28mself\u001b[39m\u001b[38;5;241m.\u001b[39mauto_collation:\n\u001b[1;32m---> 49\u001b[0m         data \u001b[38;5;241m=\u001b[39m [\u001b[38;5;28;43mself\u001b[39;49m\u001b[38;5;241;43m.\u001b[39;49m\u001b[43mdataset\u001b[49m\u001b[43m[\u001b[49m\u001b[43midx\u001b[49m\u001b[43m]\u001b[49m \u001b[38;5;28;01mfor\u001b[39;00m idx \u001b[38;5;129;01min\u001b[39;00m possibly_batched_index]\n\u001b[0;32m     50\u001b[0m     \u001b[38;5;28;01melse\u001b[39;00m:\n\u001b[0;32m     51\u001b[0m         data \u001b[38;5;241m=\u001b[39m \u001b[38;5;28mself\u001b[39m\u001b[38;5;241m.\u001b[39mdataset[possibly_batched_index]\n",
      "Input \u001b[1;32mIn [8]\u001b[0m, in \u001b[0;36mADNI_Dataset_regression.__getitem__\u001b[1;34m(self, idx)\u001b[0m\n\u001b[0;32m     21\u001b[0m image \u001b[38;5;241m=\u001b[39m nib\u001b[38;5;241m.\u001b[39mload(image_path)\n\u001b[0;32m     22\u001b[0m a \u001b[38;5;241m=\u001b[39m (image\u001b[38;5;241m.\u001b[39mget_fdata()) \u001b[38;5;66;03m#convert to np array\u001b[39;00m\n\u001b[1;32m---> 23\u001b[0m a \u001b[38;5;241m=\u001b[39m \u001b[43mcustomToTensor\u001b[49m\u001b[43m(\u001b[49m\u001b[43ma\u001b[49m\u001b[43m)\u001b[49m\n\u001b[0;32m     25\u001b[0m sample \u001b[38;5;241m=\u001b[39m {\u001b[38;5;124m'\u001b[39m\u001b[38;5;124mimage\u001b[39m\u001b[38;5;124m'\u001b[39m: a, \u001b[38;5;124m'\u001b[39m\u001b[38;5;124mlabel\u001b[39m\u001b[38;5;124m'\u001b[39m: img_label}\n\u001b[0;32m     27\u001b[0m \u001b[38;5;28;01mreturn\u001b[39;00m sample\n",
      "Input \u001b[1;32mIn [7]\u001b[0m, in \u001b[0;36mcustomToTensor\u001b[1;34m(img)\u001b[0m\n\u001b[0;32m      2\u001b[0m \u001b[38;5;28;01mif\u001b[39;00m \u001b[38;5;28misinstance\u001b[39m(img, np\u001b[38;5;241m.\u001b[39mndarray):\n\u001b[0;32m      3\u001b[0m     img1 \u001b[38;5;241m=\u001b[39m torch\u001b[38;5;241m.\u001b[39mfrom_numpy(img)\n\u001b[1;32m----> 4\u001b[0m     img1 \u001b[38;5;241m=\u001b[39m \u001b[43mresize_image\u001b[49m\u001b[43m(\u001b[49m\u001b[43mimg\u001b[49m\u001b[43m,\u001b[49m\u001b[43m \u001b[49m\u001b[43m(\u001b[49m\u001b[38;5;241;43m150\u001b[39;49m\u001b[43m,\u001b[49m\u001b[43m \u001b[49m\u001b[38;5;241;43m150\u001b[39;49m\u001b[43m,\u001b[49m\u001b[43m \u001b[49m\u001b[38;5;241;43m200\u001b[39;49m\u001b[43m)\u001b[49m\u001b[43m)\u001b[49m\n\u001b[0;32m      5\u001b[0m     \u001b[38;5;66;03m# backward compatibility\u001b[39;00m\n\u001b[0;32m      6\u001b[0m     \u001b[38;5;28;01mreturn\u001b[39;00m img1\u001b[38;5;241m.\u001b[39mastype(np\u001b[38;5;241m.\u001b[39mfloat32)\n",
      "Input \u001b[1;32mIn [7]\u001b[0m, in \u001b[0;36mresize_image\u001b[1;34m(img_array, trg_size)\u001b[0m\n\u001b[0;32m      8\u001b[0m \u001b[38;5;28;01mdef\u001b[39;00m \u001b[38;5;21mresize_image\u001b[39m(img_array, trg_size):\n\u001b[1;32m----> 9\u001b[0m     res \u001b[38;5;241m=\u001b[39m \u001b[43mresize\u001b[49m\u001b[43m(\u001b[49m\u001b[43mimg_array\u001b[49m\u001b[43m,\u001b[49m\u001b[43m \u001b[49m\u001b[43mtrg_size\u001b[49m\u001b[43m,\u001b[49m\u001b[43m \u001b[49m\u001b[43mmode\u001b[49m\u001b[38;5;241;43m=\u001b[39;49m\u001b[38;5;124;43m'\u001b[39;49m\u001b[38;5;124;43mreflect\u001b[39;49m\u001b[38;5;124;43m'\u001b[39;49m\u001b[43m,\u001b[49m\u001b[43m \u001b[49m\u001b[43mpreserve_range\u001b[49m\u001b[38;5;241;43m=\u001b[39;49m\u001b[38;5;28;43;01mTrue\u001b[39;49;00m\u001b[43m,\u001b[49m\u001b[43m \u001b[49m\u001b[43manti_aliasing\u001b[49m\u001b[38;5;241;43m=\u001b[39;49m\u001b[38;5;28;43;01mFalse\u001b[39;49;00m\u001b[43m)\u001b[49m\n\u001b[0;32m     10\u001b[0m     \u001b[38;5;66;03m# type check\u001b[39;00m\n\u001b[0;32m     11\u001b[0m     \u001b[38;5;28;01mif\u001b[39;00m \u001b[38;5;28mtype\u001b[39m(res) \u001b[38;5;241m!=\u001b[39m np\u001b[38;5;241m.\u001b[39mndarray:\n",
      "File \u001b[1;32m~\\anaconda3\\envs\\ivp_proj\\lib\\site-packages\\skimage\\transform\\_warps.py:187\u001b[0m, in \u001b[0;36mresize\u001b[1;34m(image, output_shape, order, mode, cval, clip, preserve_range, anti_aliasing, anti_aliasing_sigma)\u001b[0m\n\u001b[0;32m    184\u001b[0m \u001b[38;5;28;01mif\u001b[39;00m NumpyVersion(scipy\u001b[38;5;241m.\u001b[39m__version__) \u001b[38;5;241m>\u001b[39m\u001b[38;5;241m=\u001b[39m \u001b[38;5;124m'\u001b[39m\u001b[38;5;124m1.6.0\u001b[39m\u001b[38;5;124m'\u001b[39m:\n\u001b[0;32m    185\u001b[0m     \u001b[38;5;66;03m# The grid_mode kwarg was introduced in SciPy 1.6.0\u001b[39;00m\n\u001b[0;32m    186\u001b[0m     zoom_factors \u001b[38;5;241m=\u001b[39m [\u001b[38;5;241m1\u001b[39m \u001b[38;5;241m/\u001b[39m f \u001b[38;5;28;01mfor\u001b[39;00m f \u001b[38;5;129;01min\u001b[39;00m factors]\n\u001b[1;32m--> 187\u001b[0m     out \u001b[38;5;241m=\u001b[39m \u001b[43mndi\u001b[49m\u001b[38;5;241;43m.\u001b[39;49m\u001b[43mzoom\u001b[49m\u001b[43m(\u001b[49m\u001b[43mimage\u001b[49m\u001b[43m,\u001b[49m\u001b[43m \u001b[49m\u001b[43mzoom_factors\u001b[49m\u001b[43m,\u001b[49m\u001b[43m \u001b[49m\u001b[43morder\u001b[49m\u001b[38;5;241;43m=\u001b[39;49m\u001b[43morder\u001b[49m\u001b[43m,\u001b[49m\u001b[43m \u001b[49m\u001b[43mmode\u001b[49m\u001b[38;5;241;43m=\u001b[39;49m\u001b[43mndi_mode\u001b[49m\u001b[43m,\u001b[49m\n\u001b[0;32m    188\u001b[0m \u001b[43m                   \u001b[49m\u001b[43mcval\u001b[49m\u001b[38;5;241;43m=\u001b[39;49m\u001b[43mcval\u001b[49m\u001b[43m,\u001b[49m\u001b[43m \u001b[49m\u001b[43mgrid_mode\u001b[49m\u001b[38;5;241;43m=\u001b[39;49m\u001b[38;5;28;43;01mTrue\u001b[39;49;00m\u001b[43m)\u001b[49m\n\u001b[0;32m    190\u001b[0m \u001b[38;5;66;03m# TODO: Remove the fallback code below once SciPy >= 1.6.0 is required.\u001b[39;00m\n\u001b[0;32m    191\u001b[0m \n\u001b[0;32m    192\u001b[0m \u001b[38;5;66;03m# 2-dimensional interpolation\u001b[39;00m\n\u001b[0;32m    193\u001b[0m \u001b[38;5;28;01melif\u001b[39;00m \u001b[38;5;28mlen\u001b[39m(output_shape) \u001b[38;5;241m==\u001b[39m \u001b[38;5;241m2\u001b[39m \u001b[38;5;129;01mor\u001b[39;00m (\u001b[38;5;28mlen\u001b[39m(output_shape) \u001b[38;5;241m==\u001b[39m \u001b[38;5;241m3\u001b[39m \u001b[38;5;129;01mand\u001b[39;00m\n\u001b[0;32m    194\u001b[0m                                 output_shape[\u001b[38;5;241m2\u001b[39m] \u001b[38;5;241m==\u001b[39m input_shape[\u001b[38;5;241m2\u001b[39m]):\n",
      "File \u001b[1;32m~\\anaconda3\\envs\\ivp_proj\\lib\\site-packages\\scipy\\ndimage\\interpolation.py:817\u001b[0m, in \u001b[0;36mzoom\u001b[1;34m(input, zoom, output, order, mode, cval, prefilter, grid_mode)\u001b[0m\n\u001b[0;32m    813\u001b[0m zoom \u001b[38;5;241m=\u001b[39m numpy\u001b[38;5;241m.\u001b[39mdivide(zoom_nominator, zoom_div,\n\u001b[0;32m    814\u001b[0m                     out\u001b[38;5;241m=\u001b[39mnumpy\u001b[38;5;241m.\u001b[39mones_like(\u001b[38;5;28minput\u001b[39m\u001b[38;5;241m.\u001b[39mshape, dtype\u001b[38;5;241m=\u001b[39mnumpy\u001b[38;5;241m.\u001b[39mfloat64),\n\u001b[0;32m    815\u001b[0m                     where\u001b[38;5;241m=\u001b[39mzoom_div \u001b[38;5;241m!=\u001b[39m \u001b[38;5;241m0\u001b[39m)\n\u001b[0;32m    816\u001b[0m zoom \u001b[38;5;241m=\u001b[39m numpy\u001b[38;5;241m.\u001b[39mascontiguousarray(zoom)\n\u001b[1;32m--> 817\u001b[0m \u001b[43m_nd_image\u001b[49m\u001b[38;5;241;43m.\u001b[39;49m\u001b[43mzoom_shift\u001b[49m\u001b[43m(\u001b[49m\u001b[43mfiltered\u001b[49m\u001b[43m,\u001b[49m\u001b[43m \u001b[49m\u001b[43mzoom\u001b[49m\u001b[43m,\u001b[49m\u001b[43m \u001b[49m\u001b[38;5;28;43;01mNone\u001b[39;49;00m\u001b[43m,\u001b[49m\u001b[43m \u001b[49m\u001b[43moutput\u001b[49m\u001b[43m,\u001b[49m\u001b[43m \u001b[49m\u001b[43morder\u001b[49m\u001b[43m,\u001b[49m\u001b[43m \u001b[49m\u001b[43mmode\u001b[49m\u001b[43m,\u001b[49m\u001b[43m \u001b[49m\u001b[43mcval\u001b[49m\u001b[43m,\u001b[49m\u001b[43m \u001b[49m\u001b[43mnpad\u001b[49m\u001b[43m,\u001b[49m\n\u001b[0;32m    818\u001b[0m \u001b[43m                     \u001b[49m\u001b[43mgrid_mode\u001b[49m\u001b[43m)\u001b[49m\n\u001b[0;32m    819\u001b[0m \u001b[38;5;28;01mreturn\u001b[39;00m output\n",
      "\u001b[1;31mKeyboardInterrupt\u001b[0m: "
     ]
    }
   ],
   "source": [
    "# def k_fold(model, dataset, NUM_EPOCH, LR, BATCH_SIZE, SAVE_PATH, criterion):\n",
    "foldperf={}\n",
    "for fold, (train_idx, val_idx) in enumerate(splits.split(np.arange(len(regression_data)))):\n",
    "    train_idx = np.delete(train_idx, 0)\n",
    "    val_idx = np.delete(val_idx, 0)\n",
    "    print('Fold {}'.format(fold + 1))\n",
    "    \n",
    "    train_sampler = SubsetRandomSampler(train_idx)\n",
    "    test_sampler = SubsetRandomSampler(val_idx)\n",
    "    train_loader = torch.utils.data.DataLoader(regression_data, batch_size=BATCH_SIZE, sampler=train_sampler)\n",
    "    test_loader = torch.utils.data.DataLoader(regression_data, batch_size=BATCH_SIZE, sampler=test_sampler)\n",
    "\n",
    "    device = torch.device(\"cuda:0\" if torch.cuda.is_available() else \"cpu\")\n",
    "\n",
    "    net.to(device)\n",
    "    optimizer = optim.Adam(net.parameters(), lr=LR)\n",
    "\n",
    "    history = {'train_loss': [], 'test_loss': []}\n",
    "\n",
    "    for epoch in range(NUM_EPOCH):\n",
    "        train_loss =train_epoch(net, train_loader, optimizer, criterion, epoch)\n",
    "        test_loss =valid_epoch(net, test_loader, criterion, epoch)\n",
    "        train_loss = train_loss / len(train_loader.sampler)\n",
    "        test_loss = test_loss / len(test_loader.sampler)\n",
    "\n",
    "        print(\"Epoch:{}/{} AVG Training Loss:{:.3f} AVG Test Loss:{:.3f}\".format(epoch + 1, NUM_EPOCH, train_loss, test_loss))\n",
    "        history['train_loss'].append(train_loss)\n",
    "        history['test_loss'].append(test_loss)\n",
    "\n",
    "#         Save the model after each epoch\n",
    "        if os.path.isdir(SAVE_PATH_AP):\n",
    "            torch.save(net.state_dict(),SAVE_PATH_AP + '\\epoch{}.pth'.format(epoch + 1))\n",
    "        else:\n",
    "            os.makedirs(model_save_path, exist_ok=True)\n",
    "            torch.save(net.state_dict(),SAVE_PATH_AP + '\\epoch{}.pth'.format(epoch + 1))\n",
    "        print('Checkpoint {} saved to {}'.format(epoch + 1, SAVE_PATH_AP + '\\epoch{}.pth'.format(epoch + 1)))   \n",
    "    foldperf['fold{}'.format(fold+1)] = history  \n",
    "\n",
    "torch.save(net,'k_cross.pt')\n",
    "# return foldperf"
   ]
  },
  {
   "cell_type": "code",
   "execution_count": null,
   "id": "56209a6e",
   "metadata": {},
   "outputs": [],
   "source": [
    "testl_f, tl_f = [], []\n",
    "\n",
    "for f in range(1,k+1):\n",
    "    tl_f.append(np.mean(foldperf['fold{}'.format(f)]['train_loss']))\n",
    "    testl_f.append(np.mean(foldperf['fold{}'.format(f)]['test_loss']))\n",
    "\n",
    "print('Performance of {} fold cross validation'.format(k))\n",
    "print(\"Average Training Loss: {:.3f} \\t Average Test Loss: {:.3f}\".format(np.mean(tl_f), np.mean(testl_f)))     \n"
   ]
  }
 ],
 "metadata": {
  "kernelspec": {
   "display_name": "Python 3 (ipykernel)",
   "language": "python",
   "name": "python3"
  },
  "language_info": {
   "codemirror_mode": {
    "name": "ipython",
    "version": 3
   },
   "file_extension": ".py",
   "mimetype": "text/x-python",
   "name": "python",
   "nbconvert_exporter": "python",
   "pygments_lexer": "ipython3",
   "version": "3.10.4"
  }
 },
 "nbformat": 4,
 "nbformat_minor": 5
}
