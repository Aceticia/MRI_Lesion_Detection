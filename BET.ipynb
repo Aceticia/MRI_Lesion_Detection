{
 "cells": [
  {
   "cell_type": "code",
   "execution_count": null,
   "id": "4e2e3f3f",
   "metadata": {},
   "outputs": [],
   "source": [
    "import os\n",
    "import glob\n",
    "import subprocess\n",
    "\n",
    "#define the path to MRI scan data\n",
    "fl_list = sorted(glob.glob(r\"/Downloads/scan_data007-20220406T230249Z-001/scan_data007/nyu/dicom/allegra/mmilham/abide_28730/*/*/mprage_0001/*.nii.gz\"))\n",
    "outfile = []\n",
    "\n",
    "#Loop to define output paths\n",
    "for i in range(len(fl_list)):\n",
    "    #define the out path \n",
    "    out = r'/home/Desktop/bet_files/MPR_' + str(i)\n",
    "    outfile.append(out)\n",
    "\n",
    "#Perfrom BET\n",
    "for i, file in enumerate(fl_list):\n",
    "    subprocess.run([\"bet\"]+ [file] + [outfile[i]] + [\"-c\"] +[\"0\"]+[\"0\"]+[\"0\"])\n",
    "    "
   ]
  },
  {
   "cell_type": "code",
   "execution_count": 28,
   "id": "94c63d47",
   "metadata": {},
   "outputs": [],
   "source": [
    "fl_list_flirt = sorted(glob.glob(r\"/home/Desktop/bet_files/*.nii.gz\"))\n",
    "outfile1 = []\n",
    "outfile2 = []\n",
    "\n",
    "#Loop to define output paths\n",
    "for i in range(len(fl_list_flirt)):\n",
    "    out = r'/home/Desktop/flirt_files/MPRFlirt_' + str(i)\n",
    "    omat = r'/home/Desktop/flirt_files/MPRomat_' + str(i) + '.mat'\n",
    "    outfile1.append(out)\n",
    "    outfile2.append(omat)\n",
    "\n",
    "#Pefrom FLIRT on BET files\n",
    "for i, file in enumerate(fl_list_flirt):\n",
    "    #flirt -in bet1.nii.gz -ref $FSLDIR/data/standard/MNI152_T1_1mm -dof 6 -out flirt1mm -omat T1toMNIlin.mat\n",
    "    subprocess.run([\"flirt\"]+ [\"-in\"]+[file]+ [\"-ref\"]+[\"/usr/local/fsl/data/standard/MNI152_T1_1mm_brain.nii.gz\"]+[\"-dof\"]+[\"6\"]+[\"-out\"]+[outfile1[i]] + [\"-omat\"]+[outfile2[i]])\n"
   ]
  }
 ],
 "metadata": {
  "kernelspec": {
   "display_name": "Python 3 (ipykernel)",
   "language": "python",
   "name": "python3"
  },
  "language_info": {
   "codemirror_mode": {
    "name": "ipython",
    "version": 3
   },
   "file_extension": ".py",
   "mimetype": "text/x-python",
   "name": "python",
   "nbconvert_exporter": "python",
   "pygments_lexer": "ipython3",
   "version": "3.8.10"
  }
 },
 "nbformat": 4,
 "nbformat_minor": 5
}
