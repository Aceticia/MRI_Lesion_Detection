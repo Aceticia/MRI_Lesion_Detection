{
 "cells": [
  {
   "cell_type": "code",
   "execution_count": 1,
   "id": "demographic-grill",
   "metadata": {},
   "outputs": [],
   "source": [
    "import numpy as np"
   ]
  },
  {
   "cell_type": "code",
   "execution_count": 2,
   "id": "73f5e2d4",
   "metadata": {},
   "outputs": [],
   "source": [
    "import torch\n",
    "import matplotlib\n",
    "import torch.nn as nn\n",
    "import random\n",
    "import cv2"
   ]
  },
  {
   "cell_type": "code",
   "execution_count": null,
   "id": "52aaecbf",
   "metadata": {},
   "outputs": [],
   "source": []
  },
  {
   "cell_type": "code",
   "execution_count": 14,
   "id": "86bbb3ae",
   "metadata": {},
   "outputs": [],
   "source": [
    "def positive_pair(data):\n",
    "    [batch_size,q,h,w]=data.shape\n",
    "    ret=np.array(data)\n",
    "    NOISE_R=0.7\n",
    "    FLIP_R=0.6\n",
    "    r1=random.random()\n",
    "    #add random noise\n",
    "    if r1<NOISE_R:\n",
    "        ret=ret+np.random.randn(batch_size,q,h,w)*12\n",
    "    #flip image randomly on all dimensions\n",
    "    r2=random.random()\n",
    "    if r2<FLIP_R:\n",
    "        ret=ret[:,::-1,:,:]\n",
    "    r3=random.random()\n",
    "    if r3<FLIP_R:\n",
    "        ret=ret[:,:,::-1,:]\n",
    "    if random.random()<0.6 or (r1>NOISE_R and r2>FLIP_R and r1>FLIP_R):\n",
    "        ret=ret[:,:,:,::-1]\n",
    "    return torch.as_tensor(ret.copy())"
   ]
  },
  {
   "cell_type": "code",
   "execution_count": 4,
   "id": "41798c7e",
   "metadata": {},
   "outputs": [],
   "source": [
    "# Not used\n",
    "def data_padding(data):\n",
    "    [batch_size,nx,ny,nz]=data.shape\n",
    "    maxr=max(nx,ny,nz)\n",
    "    data2=np.zeros([batch_size,maxr,maxr,maxr])\n",
    "    for i in range(batch_size):\n",
    "        for x in range(nx):\n",
    "            for y in range(ny):\n",
    "                for z in range(nz):\n",
    "                    data2[i,x+(maxr-nx)//2,y+(maxr-ny)//2,z+(maxr-nz)//2]=data[i,x,y,z]\n",
    "    return data2.copy()\n",
    "    "
   ]
  },
  {
   "cell_type": "code",
   "execution_count": 5,
   "id": "7bc41c0c",
   "metadata": {},
   "outputs": [],
   "source": [
    "# Different shape on different slices\n",
    "class cnn_multi_dim(nn.Module):\n",
    "    def __init__(self,dim=0,output_dim=30):\n",
    "        super(cnn_multi_dim,self).__init__()\n",
    "        if dim==1:\n",
    "            self.conv=nn.Sequential(\n",
    "                nn.Conv2d(1,8,5,1,0),\n",
    "                nn.ReLU(),\n",
    "                nn.MaxPool2d(2),\n",
    "                nn.Conv2d(8,32,3,1,0),\n",
    "                nn.ReLU(),\n",
    "                nn.MaxPool2d(2),\n",
    "                nn.Conv2d(32,32,3,1,0),\n",
    "                nn.ReLU(),\n",
    "                nn.MaxPool2d(2),\n",
    "            )\n",
    "            self.out=nn.Linear(2592,output_dim)\n",
    "        else:\n",
    "            self.conv=nn.Sequential(\n",
    "                nn.Conv2d(1,8,5,1,0),\n",
    "                nn.ReLU(),\n",
    "                nn.MaxPool2d(2),\n",
    "                nn.Conv2d(8,32,3,1,0),\n",
    "                nn.ReLU(),\n",
    "                nn.MaxPool2d(2),\n",
    "                nn.Conv2d(32,32,3,1,0),\n",
    "                nn.ReLU(),\n",
    "                nn.MaxPool2d(2),\n",
    "            )\n",
    "            self.out=nn.Linear(3168,output_dim)      \n",
    "            \n",
    "    def forward(self,x):\n",
    "            y=x.view([x.shape[1]*x.shape[0],1,x.shape[2],x.shape[3]])\n",
    "            y=self.conv(y)\n",
    "            y=y.view(y.size(0),-1)\n",
    "            y=self.out(y)\n",
    "            y=y.view(1,y.shape[0],y.shape[1])\n",
    "            y=nn.AvgPool2d(kernel_size=[x.shape[1],1],stride=[x.shape[1],1])(y)\n",
    "            y=y.view(y.shape[1],y.shape[2])\n",
    "            return y"
   ]
  },
  {
   "cell_type": "code",
   "execution_count": 6,
   "id": "f7548de2",
   "metadata": {},
   "outputs": [],
   "source": [
    "def train(loader,ep,lrate,alpha):\n",
    "    cnn=[cnn_multi_dim(0),cnn_multi_dim(1),cnn_multi_dim(2)]\n",
    "    optimizer=torch.optim.Adam([{\"params\":cnn[0].parameters()},{\"params\":cnn[1].parameters()},{\"params\":cnn[2].parameters()}],lrate)\n",
    "    for epoch in range(ep):\n",
    "        losses=[]\n",
    "        for _,d in enumerate(loader):\n",
    "            if (_>0):\n",
    "                positive=positive_pair(d)\n",
    "                # Generate slices\n",
    "                tran_d=[d,d.permute(0,2,1,3),d.permute(0,3,1,2)]\n",
    "                tran_neg=[negative,negative.permute(0,2,1,3),negative.permute(0,3,1,2)]\n",
    "                tran_pos=[positive,positive.permute(0,2,1,3),positive.permute(0,3,1,2)]\n",
    "                pred_d=[_,_,_]\n",
    "                pred_pos=[_,_,_]\n",
    "                pred_neg=[_,_,_]\n",
    "                loss=0\n",
    "                for dim in range(3):\n",
    "                    pred_d[dim]=cnn[dim](tran_d[dim].float())\n",
    "                    pred_pos[dim]=cnn[dim](tran_pos[dim].float())\n",
    "                    pred_neg[dim]=cnn[dim](tran_neg[dim].float())\n",
    "                    d1=pred_d[dim]-pred_pos[dim]\n",
    "                    d2=pred_d[dim]-pred_neg[dim]\n",
    "                    d1=torch.norm(d1)\n",
    "                    d2=torch.norm(d2)\n",
    "                    loss=loss+nn.ReLU()(d1-d2+alpha)\n",
    "\n",
    "                optimizer.zero_grad()\n",
    "                loss.backward()\n",
    "                optimizer.step()\n",
    "                #print(epoch,_,loss.item())\n",
    "                losses.append(loss.item())\n",
    "            negative=d\n",
    "        print('epoch:',epoch,'loss:',np.array(losses).mean())\n",
    "        state={0:cnn[0].state_dict(),1:cnn[1].state_dict(),2:cnn[0].state_dict()}\n",
    "        torch.save(state,'checkpointat{}.pth'.format(epoch))\n",
    "    return cnn"
   ]
  },
  {
   "cell_type": "code",
   "execution_count": 7,
   "id": "5af30b79",
   "metadata": {},
   "outputs": [
    {
     "name": "stdout",
     "output_type": "stream",
     "text": [
      "epoch: 0 loss: 30.58851941426595\n",
      "epoch: 1 loss: 28.392600377400715\n"
     ]
    },
    {
     "data": {
      "text/plain": [
       "[cnn_multi_dim(\n",
       "   (conv): Sequential(\n",
       "     (0): Conv2d(1, 8, kernel_size=(5, 5), stride=(1, 1))\n",
       "     (1): ReLU()\n",
       "     (2): MaxPool2d(kernel_size=2, stride=2, padding=0, dilation=1, ceil_mode=False)\n",
       "     (3): Conv2d(8, 32, kernel_size=(3, 3), stride=(1, 1))\n",
       "     (4): ReLU()\n",
       "     (5): MaxPool2d(kernel_size=2, stride=2, padding=0, dilation=1, ceil_mode=False)\n",
       "     (6): Conv2d(32, 32, kernel_size=(3, 3), stride=(1, 1))\n",
       "     (7): ReLU()\n",
       "     (8): MaxPool2d(kernel_size=2, stride=2, padding=0, dilation=1, ceil_mode=False)\n",
       "   )\n",
       "   (out): Linear(in_features=3168, out_features=30, bias=True)\n",
       " ),\n",
       " cnn_multi_dim(\n",
       "   (conv): Sequential(\n",
       "     (0): Conv2d(1, 8, kernel_size=(5, 5), stride=(1, 1))\n",
       "     (1): ReLU()\n",
       "     (2): MaxPool2d(kernel_size=2, stride=2, padding=0, dilation=1, ceil_mode=False)\n",
       "     (3): Conv2d(8, 32, kernel_size=(3, 3), stride=(1, 1))\n",
       "     (4): ReLU()\n",
       "     (5): MaxPool2d(kernel_size=2, stride=2, padding=0, dilation=1, ceil_mode=False)\n",
       "     (6): Conv2d(32, 32, kernel_size=(3, 3), stride=(1, 1))\n",
       "     (7): ReLU()\n",
       "     (8): MaxPool2d(kernel_size=2, stride=2, padding=0, dilation=1, ceil_mode=False)\n",
       "   )\n",
       "   (out): Linear(in_features=2592, out_features=30, bias=True)\n",
       " ),\n",
       " cnn_multi_dim(\n",
       "   (conv): Sequential(\n",
       "     (0): Conv2d(1, 8, kernel_size=(5, 5), stride=(1, 1))\n",
       "     (1): ReLU()\n",
       "     (2): MaxPool2d(kernel_size=2, stride=2, padding=0, dilation=1, ceil_mode=False)\n",
       "     (3): Conv2d(8, 32, kernel_size=(3, 3), stride=(1, 1))\n",
       "     (4): ReLU()\n",
       "     (5): MaxPool2d(kernel_size=2, stride=2, padding=0, dilation=1, ceil_mode=False)\n",
       "     (6): Conv2d(32, 32, kernel_size=(3, 3), stride=(1, 1))\n",
       "     (7): ReLU()\n",
       "     (8): MaxPool2d(kernel_size=2, stride=2, padding=0, dilation=1, ceil_mode=False)\n",
       "   )\n",
       "   (out): Linear(in_features=3168, out_features=30, bias=True)\n",
       " )]"
      ]
     },
     "execution_count": 7,
     "metadata": {},
     "output_type": "execute_result"
    }
   ],
   "source": [
    "#182 218 182\n",
    "data=np.random.rand(12,91,109,91)*200\n",
    "batch_size=3\n",
    "dataloader=torch.utils.data.DataLoader(dataset=data,batch_size=batch_size,shuffle=True)\n",
    "train(dataloader,2,1e-3,10)\n",
    "    \n"
   ]
  },
  {
   "cell_type": "code",
   "execution_count": 8,
   "id": "d2b1f1d3",
   "metadata": {},
   "outputs": [],
   "source": [
    "import nibabel as nib\n",
    "#img=nib.load('MPRFlirt_0.nii.gz')\n",
    "#imgdata=np.array(img.get_fdata())\n",
    "#print(imgdata.shape)"
   ]
  },
  {
   "cell_type": "code",
   "execution_count": 9,
   "id": "f3e484da",
   "metadata": {},
   "outputs": [],
   "source": [
    "def MeanPool3d(img,kernel):\n",
    "    s=img.shape\n",
    "    ret=np.zeros((s[0]//kernel,s[1]//kernel,s[2]//kernel))\n",
    "    for i in range(0,s[0],kernel):\n",
    "        for j in range(0,s[1],kernel):\n",
    "            for k in range(0,s[2],kernel):\n",
    "                r=img[i:i+kernel,j:j+kernel,k:k+kernel]\n",
    "                avg=r.mean()\n",
    "                ret[i//kernel,j//kernel,k//kernel]=avg\n",
    "    return ret            \n",
    "                "
   ]
  },
  {
   "cell_type": "code",
   "execution_count": 10,
   "id": "252b2f34",
   "metadata": {},
   "outputs": [
    {
     "name": "stdout",
     "output_type": "stream",
     "text": [
      "................................(32, 91, 109, 91)\n"
     ]
    }
   ],
   "source": [
    "ndata=32\n",
    "data=[]\n",
    "for i in range(ndata):\n",
    "    img=nib.load('MPRFlirt_{}.nii.gz'.format(i))\n",
    "    imgdata=np.array(img.get_fdata())\n",
    "    imgdata=MeanPool3d(imgdata,2)\n",
    "    data.append(imgdata)\n",
    "    print('.',end='')\n",
    "data=np.array(data)\n",
    "print(data.shape)\n"
   ]
  },
  {
   "cell_type": "code",
   "execution_count": 11,
   "id": "b36dff2d",
   "metadata": {},
   "outputs": [],
   "source": [
    "batch_size=2\n",
    "dataloader=torch.utils.data.DataLoader(dataset=data,batch_size=batch_size,shuffle=True)"
   ]
  },
  {
   "cell_type": "code",
   "execution_count": 15,
   "id": "2b3af544",
   "metadata": {
    "scrolled": true
   },
   "outputs": [
    {
     "name": "stdout",
     "output_type": "stream",
     "text": [
      "epoch: 0 loss: 62.27260144551595\n",
      "epoch: 1 loss: 35.16629409790039\n",
      "epoch: 2 loss: 35.49010492960612\n",
      "epoch: 3 loss: 15.720514551798503\n",
      "epoch: 4 loss: 10.463887023925782\n",
      "epoch: 5 loss: 3.5803096771240233\n",
      "epoch: 6 loss: 0.9053218841552735\n",
      "epoch: 7 loss: 2.2739494323730467\n",
      "epoch: 8 loss: 4.538187535603841\n",
      "epoch: 9 loss: 5.260058657328288\n"
     ]
    },
    {
     "data": {
      "text/plain": [
       "[cnn_multi_dim(\n",
       "   (conv): Sequential(\n",
       "     (0): Conv2d(1, 8, kernel_size=(5, 5), stride=(1, 1))\n",
       "     (1): ReLU()\n",
       "     (2): MaxPool2d(kernel_size=2, stride=2, padding=0, dilation=1, ceil_mode=False)\n",
       "     (3): Conv2d(8, 32, kernel_size=(3, 3), stride=(1, 1))\n",
       "     (4): ReLU()\n",
       "     (5): MaxPool2d(kernel_size=2, stride=2, padding=0, dilation=1, ceil_mode=False)\n",
       "     (6): Conv2d(32, 32, kernel_size=(3, 3), stride=(1, 1))\n",
       "     (7): ReLU()\n",
       "     (8): MaxPool2d(kernel_size=2, stride=2, padding=0, dilation=1, ceil_mode=False)\n",
       "   )\n",
       "   (out): Linear(in_features=3168, out_features=30, bias=True)\n",
       " ),\n",
       " cnn_multi_dim(\n",
       "   (conv): Sequential(\n",
       "     (0): Conv2d(1, 8, kernel_size=(5, 5), stride=(1, 1))\n",
       "     (1): ReLU()\n",
       "     (2): MaxPool2d(kernel_size=2, stride=2, padding=0, dilation=1, ceil_mode=False)\n",
       "     (3): Conv2d(8, 32, kernel_size=(3, 3), stride=(1, 1))\n",
       "     (4): ReLU()\n",
       "     (5): MaxPool2d(kernel_size=2, stride=2, padding=0, dilation=1, ceil_mode=False)\n",
       "     (6): Conv2d(32, 32, kernel_size=(3, 3), stride=(1, 1))\n",
       "     (7): ReLU()\n",
       "     (8): MaxPool2d(kernel_size=2, stride=2, padding=0, dilation=1, ceil_mode=False)\n",
       "   )\n",
       "   (out): Linear(in_features=2592, out_features=30, bias=True)\n",
       " ),\n",
       " cnn_multi_dim(\n",
       "   (conv): Sequential(\n",
       "     (0): Conv2d(1, 8, kernel_size=(5, 5), stride=(1, 1))\n",
       "     (1): ReLU()\n",
       "     (2): MaxPool2d(kernel_size=2, stride=2, padding=0, dilation=1, ceil_mode=False)\n",
       "     (3): Conv2d(8, 32, kernel_size=(3, 3), stride=(1, 1))\n",
       "     (4): ReLU()\n",
       "     (5): MaxPool2d(kernel_size=2, stride=2, padding=0, dilation=1, ceil_mode=False)\n",
       "     (6): Conv2d(32, 32, kernel_size=(3, 3), stride=(1, 1))\n",
       "     (7): ReLU()\n",
       "     (8): MaxPool2d(kernel_size=2, stride=2, padding=0, dilation=1, ceil_mode=False)\n",
       "   )\n",
       "   (out): Linear(in_features=3168, out_features=30, bias=True)\n",
       " )]"
      ]
     },
     "execution_count": 15,
     "metadata": {},
     "output_type": "execute_result"
    }
   ],
   "source": [
    "train(dataloader,10,1e-4,25)"
   ]
  },
  {
   "cell_type": "code",
   "execution_count": null,
   "id": "dc95e74b",
   "metadata": {},
   "outputs": [],
   "source": []
  }
 ],
 "metadata": {
  "kernelspec": {
   "display_name": "Python 3 (ipykernel)",
   "language": "python",
   "name": "python3"
  },
  "language_info": {
   "codemirror_mode": {
    "name": "ipython",
    "version": 3
   },
   "file_extension": ".py",
   "mimetype": "text/x-python",
   "name": "python",
   "nbconvert_exporter": "python",
   "pygments_lexer": "ipython3",
   "version": "3.8.12"
  }
 },
 "nbformat": 4,
 "nbformat_minor": 5
}
